{
 "cells": [
  {
   "cell_type": "code",
   "execution_count": 1,
   "id": "66ec1359",
   "metadata": {},
   "outputs": [],
   "source": [
    "#202002113 산업경영공학과 오선규\n",
    "#정상작동 하긴 하지만 insert 메소드에서 new_data를 0으로 할 경우 다른 값들 과는 다르게 문자열로 삽입.\n",
    "# Node 클래스 정의\n",
    "class Node:\n",
    "\tdef __init__(self, data):\n",
    "\t\tself.data = data\n",
    "\t\tself.next = None\n",
    "\n",
    "\n",
    "# LinkedList 클래스 정의\n",
    "class LinkedList:\n",
    "\n",
    "\t# 초기화 메소드\n",
    "        def __init__(self):\n",
    "                dummy = Node(\"dummy\")\n",
    "                self.head = dummy\n",
    "                self.tail = dummy\n",
    "\n",
    "                self.current = None\n",
    "                self.before = None\n",
    "\n",
    "                self.num_of_data = 0\n",
    "\n",
    "\t# append 메소드 (insert - 맨 뒤에 노드 추가, tail과 node의 next, 데이터 개수 변경)\n",
    "        def append(self, data):\n",
    "                new_node = Node(data)\n",
    "                self.tail.next = new_node\n",
    "                self.tail = new_node\n",
    "\n",
    "                self.num_of_data += 1\n",
    "\n",
    "\t# delete 메소드 (delete - current 노드 삭제, 인접 노드의 current, next 변경, 데이터 개수 변경)\n",
    "        def delete(self):\n",
    "        \tpop_data = self.current.data\n",
    "\n",
    "        \tif self.current is self.tail:\n",
    "\n",
    "        \t\tself.tail = self.before\n",
    "\n",
    "\t\t\t# 중요 : current가 next가 아닌 before로 변경된다.\n",
    "        \t\tself.before.next = self.current.next\n",
    "        \t\tself.current = self.before \n",
    "\n",
    "        \t\tself.num_of_data -= 1\n",
    "\n",
    "        \t\treturn pop_data\n",
    "\n",
    "\t# first 메소드 (search1 - 맨 앞의 노드 검색, before, current 변경)\n",
    "        def first(self):\n",
    "\t\t# 데이터가 없는 경우 첫번째 노드도 없기 때문에 None 리턴\n",
    "        \tif self.num_of_data == 0: \n",
    "        \t\treturn None\n",
    "\n",
    "        \tself.before = self.head\n",
    "        \tself.current = self.head.next\n",
    "\n",
    "        \treturn self.current.data\n",
    "\n",
    "        # next 메소드 (search2 - current 노드의 다음 노드 검색, 이전에 first 메소드가 한번은 실행되어야 함)\n",
    "        def next(self):\n",
    "        \tif self.current.next == None:\n",
    "        \t\treturn None\n",
    "\n",
    "        \tself.before = self.current\n",
    "        \tself.current = self.current.next\n",
    "\n",
    "        \treturn self.current.data\n",
    "\n",
    "        # size 메소드\n",
    "        def size(self):\n",
    "        \treturn self.num_of_data\n",
    "\n",
    "        # traverse_all 메소드\n",
    "        def traverse_all(self):\n",
    "            #head(dummy)가 출력되지 않았으므로 수정해야함(수정완료)\n",
    "            data = self.head.data\n",
    "            print(\"(\",data,\")\", end = \"\", sep = \"\")\n",
    "            #첫번째 노드가 출력되지 않았기 때문에 루프가 시작되기 전에 첫번째 노드를 먼저 출력함(수정완료)\n",
    "            #줄 바꿈 없이 출력하도록 수정완료\n",
    "            data = self.first()\n",
    "            print(\" ->\", data, end = \"\")\n",
    "            while True:\n",
    "                data = self.next()\n",
    "                if data:\n",
    "                    #줄 바꿈 없이 수정하고  -> 추가(수정완료)\n",
    "                    print(\" ->\",data, end = \"\")\n",
    "                else:\n",
    "                    print(\" -> null\")\n",
    "                    break\n",
    "\n",
    "        def insert(self, position ,new_data):\n",
    "            # new data가 0일 때, 문자열로 바꾸어주지 않아도 position이 1일때에는 문제 없이 작동함. 따라서 코드를 더 수정해야할 필요가 있음(미완성)\n",
    "            \n",
    "            if new_data == 0:\n",
    "                new_data = str(new_data)\n",
    "                \n",
    "            new_node = Node(new_data)\n",
    "            self.current = self.head.next\n",
    "            previous_node = self.head\n",
    "            current_position = 1 \n",
    "            \n",
    "            if position <= 0:\n",
    "                print(\"error\")\n",
    "                #position에 0 이하의 값을 넣었을 때, error구문 이후에 값이 들어가는 것을 발견하고 return을 추가(수정완료)\n",
    "                return\n",
    "    \n",
    "            if position > self.num_of_data:\n",
    "                position = self.num_of_data + 1\n",
    "\n",
    "                while current_position < position:\n",
    "                    previous_node = self.current\n",
    "                    self.current = self.current.next\n",
    "                    current_position += 1\n",
    "            #insert 함수에서 new_data가 0일 경우 추가되지 않고 이후에 노드 또한 사라지는 것을 확인 이후에 수정 필요(수정완료)\n",
    "            elif position >= 1:\n",
    "                while current_position < position:\n",
    "                    previous_node = self.current\n",
    "                    self.current = self.current.next\n",
    "                    current_position += 1\n",
    "\n",
    "            elif self.curreent is None:\n",
    "                self.tail = new_node\n",
    "\n",
    "            previous_node.next = new_node\n",
    "            new_node.next = self.current\n",
    "            self.num_of_data += 1\n",
    "\n",
    "\n",
    "        def remove(self, key):\n",
    "            if key == 0:\n",
    "                key = str(key)\n",
    "                \n",
    "            previous_node = None\n",
    "            self.current = self.head\n",
    "            position = 0\n",
    "            while self.current != None:\n",
    "                \n",
    "                if self.current.data == key:\n",
    "                    \n",
    "                    if previous_node != None:\n",
    "                        previous_node.next = self.current.next\n",
    "                        print(\"* \", position, \"번째 원소(\", key,\")를 삭제합니다.\", sep = \"\")\n",
    "                        \n",
    "                    else:\n",
    "                        self.head = self.current.next\n",
    "                        print(position,\"* \", \"번째 원소(\", key,\")를 삭제합니다.\", sep = \"\")\n",
    "                    self.current = self.current.next\n",
    "                else:\n",
    "                    previous_node = self.current\n",
    "                    self.current = self.current.next\n",
    "                position += 1\n",
    "            print(\"* 해당하는 원소가 없습니다.\")"
   ]
  },
  {
   "cell_type": "code",
   "execution_count": 2,
   "id": "098a71a9",
   "metadata": {},
   "outputs": [],
   "source": [
    "from ssl import *"
   ]
  },
  {
   "cell_type": "code",
   "execution_count": 3,
   "id": "53b0914d",
   "metadata": {},
   "outputs": [],
   "source": [
    "ssl = LinkedList()"
   ]
  },
  {
   "cell_type": "code",
   "execution_count": 4,
   "id": "09213541",
   "metadata": {},
   "outputs": [],
   "source": [
    "ssl.append(100)"
   ]
  },
  {
   "cell_type": "code",
   "execution_count": 5,
   "id": "813a7559",
   "metadata": {},
   "outputs": [],
   "source": [
    "ssl.append(72)"
   ]
  },
  {
   "cell_type": "code",
   "execution_count": 6,
   "id": "29de4e20",
   "metadata": {},
   "outputs": [],
   "source": [
    "ssl.append(325)"
   ]
  },
  {
   "cell_type": "code",
   "execution_count": 7,
   "id": "14e81012",
   "metadata": {},
   "outputs": [
    {
     "name": "stdout",
     "output_type": "stream",
     "text": [
      "(dummy) -> 100 -> 72 -> 325 -> null\n"
     ]
    }
   ],
   "source": [
    "ssl.traverse_all()"
   ]
  },
  {
   "cell_type": "code",
   "execution_count": 8,
   "id": "098854c6",
   "metadata": {},
   "outputs": [
    {
     "name": "stdout",
     "output_type": "stream",
     "text": [
      "error\n"
     ]
    }
   ],
   "source": [
    "ssl.insert(-1, 10)"
   ]
  },
  {
   "cell_type": "code",
   "execution_count": 9,
   "id": "47240cc7",
   "metadata": {},
   "outputs": [
    {
     "name": "stdout",
     "output_type": "stream",
     "text": [
      "error\n"
     ]
    }
   ],
   "source": [
    "ssl.insert(0, 10)"
   ]
  },
  {
   "cell_type": "code",
   "execution_count": 10,
   "id": "c8b76506",
   "metadata": {},
   "outputs": [],
   "source": [
    "ssl.insert(3,15)"
   ]
  },
  {
   "cell_type": "code",
   "execution_count": 11,
   "id": "3cc730ba",
   "metadata": {},
   "outputs": [],
   "source": [
    "ssl.insert(100,15)"
   ]
  },
  {
   "cell_type": "code",
   "execution_count": 12,
   "id": "e22cbee0",
   "metadata": {},
   "outputs": [],
   "source": [
    "ssl.insert(1, 15)"
   ]
  },
  {
   "cell_type": "code",
   "execution_count": 13,
   "id": "dd6ccf8d",
   "metadata": {},
   "outputs": [],
   "source": [
    "ssl.insert(2, 0)"
   ]
  },
  {
   "cell_type": "code",
   "execution_count": 14,
   "id": "9520d280",
   "metadata": {},
   "outputs": [
    {
     "name": "stdout",
     "output_type": "stream",
     "text": [
      "(dummy) -> 15 -> 0 -> 100 -> 72 -> 15 -> 325 -> 15 -> null\n"
     ]
    }
   ],
   "source": [
    "ssl.traverse_all()"
   ]
  },
  {
   "cell_type": "code",
   "execution_count": 15,
   "id": "03c5e825",
   "metadata": {},
   "outputs": [
    {
     "name": "stdout",
     "output_type": "stream",
     "text": [
      "* 1번째 원소(15)를 삭제합니다.\n",
      "* 5번째 원소(15)를 삭제합니다.\n",
      "* 7번째 원소(15)를 삭제합니다.\n",
      "* 해당하는 원소가 없습니다.\n"
     ]
    }
   ],
   "source": [
    "ssl.remove(15)"
   ]
  },
  {
   "cell_type": "code",
   "execution_count": 16,
   "id": "e4f089cd",
   "metadata": {},
   "outputs": [
    {
     "name": "stdout",
     "output_type": "stream",
     "text": [
      "(dummy) -> 0 -> 100 -> 72 -> 325 -> null\n"
     ]
    }
   ],
   "source": [
    "ssl.traverse_all()"
   ]
  },
  {
   "cell_type": "code",
   "execution_count": 17,
   "id": "31c3952b",
   "metadata": {},
   "outputs": [
    {
     "name": "stdout",
     "output_type": "stream",
     "text": [
      "* 1번째 원소(0)를 삭제합니다.\n",
      "* 해당하는 원소가 없습니다.\n"
     ]
    }
   ],
   "source": [
    "ssl.remove(0)"
   ]
  },
  {
   "cell_type": "code",
   "execution_count": 18,
   "id": "0006a708",
   "metadata": {},
   "outputs": [
    {
     "name": "stdout",
     "output_type": "stream",
     "text": [
      "(dummy) -> 100 -> 72 -> 325 -> null\n"
     ]
    }
   ],
   "source": [
    "ssl.traverse_all()"
   ]
  }
 ],
 "metadata": {
  "kernelspec": {
   "display_name": "Python 3 (ipykernel)",
   "language": "python",
   "name": "python3"
  },
  "language_info": {
   "codemirror_mode": {
    "name": "ipython",
    "version": 3
   },
   "file_extension": ".py",
   "mimetype": "text/x-python",
   "name": "python",
   "nbconvert_exporter": "python",
   "pygments_lexer": "ipython3",
   "version": "3.10.9"
  }
 },
 "nbformat": 4,
 "nbformat_minor": 5
}
